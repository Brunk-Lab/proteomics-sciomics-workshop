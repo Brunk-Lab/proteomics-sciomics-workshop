{
 "cells": [
  {
   "cell_type": "markdown",
   "metadata": {
    "tags": []
   },
   "source": [
    "# mmtfPyspark EC1 - Webfiltering\n",
    "Webfilters use webservices to query metadata from the PDB. Webfilters can be used to:\n",
    "1. Download specific structures or chains that match a query\n",
    "2. Filter an existing set of structures by a query\n",
    "\n",
    "For details see [filters](https://github.com/sbl-sdsc/mmtf-pyspark/tree/master/mmtfPyspark/webfilters) and [demos](https://github.com/sbl-sdsc/mmtf-pyspark/tree/master/demos/webfilters)."
   ]
  },
  {
   "cell_type": "markdown",
   "metadata": {},
   "source": [
    "The following webfilters are supported:\n",
    "* AdvancedQuery - runs an RCSB PDB advanced query\n",
    "* SequenceSimilarity - runs a sequence similarity search using MMseq2 on PDB protein and nucleic acid sequences\n",
    "* ChemicalStructureQuery - runs a substructure and similarity query on chemical compounds using a SMILES string\n",
    "* PdbJMineSearch - runs an SQL query on PDBj's PDB database"
   ]
  },
  {
   "cell_type": "code",
   "execution_count": null,
   "metadata": {},
   "outputs": [],
   "source": [
    "from pyspark.sql import SparkSession\n",
    "from mmtfPyspark.io import mmtfReader\n",
    "from mmtfPyspark.webfilters import AdvancedQuery, SequenceSimilarity, ChemicalStructureQuery, PdbjMineSearch\n",
    "from mmtfPyspark.structureViewer import view_structure"
   ]
  },
  {
   "cell_type": "markdown",
   "metadata": {},
   "source": [
    "#### Configure Spark"
   ]
  },
  {
   "cell_type": "code",
   "execution_count": null,
   "metadata": {},
   "outputs": [],
   "source": [
    "spark = SparkSession.builder.appName(\"3-Webfiltering\").getOrCreate()"
   ]
  },
  {
   "cell_type": "markdown",
   "metadata": {},
   "source": [
    "## 1. Download specific structures or chains that match a query"
   ]
  },
  {
   "cell_type": "markdown",
   "metadata": {},
   "source": [
    "### AdvancedQuery\n",
    "The AdvancedQuery runs RCSB PDB's [Advanced Search](https://www.rcsb.org/search/advanced). \n",
    "\n",
    "RCSB PDB advanced queries are expressed in JSON format. The following example show how to create a query in JSON format and how to use it to download a set of structures that match the query."
   ]
  },
  {
   "cell_type": "code",
   "execution_count": null,
   "metadata": {},
   "outputs": [],
   "source": [
    "def download_from_query(webfilter):\n",
    "    from mmtfPyspark.mappers import StructureToPolymerChains\n",
    "    structure_ids = webfilter.get_structure_ids() \n",
    "    \n",
    "    pdb_ids = []\n",
    "    for sid in structure_ids:\n",
    "        pdb_ids.append(sid.split('_')[0])\n",
    "        \n",
    "    structures = mmtfReader.download_full_mmtf_files(pdb_ids)\n",
    "    \n",
    "    # for polymer entities, return only polymer entities that match the query\n",
    "    if webfilter.get_result_type() == 'polymer_entity':\n",
    "        structures = structures.flatMap(StructureToPolymerChains())\n",
    "        structures = structures.filter(webfilter)\n",
    "        \n",
    "    return structures"
   ]
  },
  {
   "cell_type": "markdown",
   "metadata": {},
   "source": [
    "#### Advanced Query for Structures\n",
    "This query returns structures with the UniProt Accession: P0DTC2 (SARS-COoV-2 Spike glycoprotein) and oligomeric state: Homo 3-mer."
   ]
  },
  {
   "cell_type": "code",
   "execution_count": null,
   "metadata": {},
   "outputs": [],
   "source": [
    "structure_query1 = '{\"query\":{\"type\":\"group\",\"logical_operator\":\"and\",\"nodes\":[{\"type\":\"group\",\"logical_operator\":\"and\",\"nodes\":[{\"type\":\"terminal\",\"service\":\"text\",\"parameters\":{\"attribute\":\"rcsb_polymer_entity_container_identifiers.reference_sequence_identifiers.database_accession\",\"operator\":\"in\",\"negation\":false,\"value\":[\"P0DTC2\"]}},{\"type\":\"terminal\",\"service\":\"text\",\"parameters\":{\"attribute\":\"rcsb_polymer_entity_container_identifiers.reference_sequence_identifiers.database_name\",\"operator\":\"exact_match\",\"value\":\"UniProt\",\"negation\":false}}],\"label\":\"nested-attribute\"},{\"type\":\"terminal\",\"service\":\"text\",\"parameters\":{\"attribute\":\"rcsb_struct_symmetry.oligomeric_state\",\"operator\":\"exact_match\",\"negation\":false,\"value\":\"Homo 3-mer\"}}],\"label\":\"text\"},\"return_type\":\"entry\",\"request_options\":{\"pager\":{\"start\":0,\"rows\":25},\"scoring_strategy\":\"combined\",\"sort\":[{\"sort_by\":\"score\",\"direction\":\"desc\"}]}}'"
   ]
  },
  {
   "cell_type": "code",
   "execution_count": null,
   "metadata": {},
   "outputs": [],
   "source": [
    "structures1 = download_from_query(AdvancedQuery(structure_query1))"
   ]
  },
  {
   "cell_type": "code",
   "execution_count": null,
   "metadata": {
    "tags": []
   },
   "outputs": [],
   "source": [
    "view_structure(structures1.keys().collect(), bioAssembly=True);"
   ]
  },
  {
   "cell_type": "markdown",
   "metadata": {},
   "source": [
    "#### Advanced Query for Entities (returns polymer chains)\n",
    "Full text query for Hemoglobin and source: human (taxonomy id 9606)"
   ]
  },
  {
   "cell_type": "code",
   "execution_count": null,
   "metadata": {},
   "outputs": [],
   "source": [
    "entity_query1 = '{\"query\":{\"type\":\"group\",\"logical_operator\":\"and\",\"nodes\":[{\"type\":\"terminal\",\"service\":\"text\",\"parameters\":{\"attribute\":\"rcsb_entity_source_organism.taxonomy_lineage.id\",\"operator\":\"exact_match\",\"negation\":false,\"value\":\"9606\"}},{\"type\":\"terminal\",\"service\":\"full_text\",\"parameters\":{\"value\":\"hemoglobin\"}}]},\"return_type\":\"polymer_entity\",\"request_options\":{\"group_by_return_type\":\"representatives\",\"group_by\":{\"aggregation_method\":\"sequence_identity\",\"ranking_criteria_type\":{\"sort_by\":\"rcsb_entry_info.resolution_combined\",\"direction\":\"asc\"},\"similarity_cutoff\":95},\"pager\":{\"start\":0,\"rows\":25},\"sort\":[{\"sort_by\":\"score\",\"direction\":\"desc\"}],\"scoring_strategy\":\"combined\"}}'"
   ]
  },
  {
   "cell_type": "code",
   "execution_count": null,
   "metadata": {},
   "outputs": [],
   "source": [
    "entities1 = download_from_query(AdvancedQuery(entity_query1))"
   ]
  },
  {
   "cell_type": "code",
   "execution_count": null,
   "metadata": {},
   "outputs": [],
   "source": [
    "view_structure(entities1.keys().collect());"
   ]
  },
  {
   "cell_type": "markdown",
   "metadata": {},
   "source": [
    "### Sequence Search"
   ]
  },
  {
   "cell_type": "code",
   "execution_count": null,
   "metadata": {},
   "outputs": [],
   "source": [
    "sequence = 'GMTKAREFLGTGWKFPVAAGADGAMVL'"
   ]
  },
  {
   "cell_type": "code",
   "execution_count": null,
   "metadata": {},
   "outputs": [],
   "source": [
    "entities2 = download_from_query(SequenceSimilarity(sequence, evalue_cutoff=0.1))"
   ]
  },
  {
   "cell_type": "code",
   "execution_count": null,
   "metadata": {},
   "outputs": [],
   "source": [
    "view_structure(entities2.keys().collect(), bioAssembly=True);"
   ]
  },
  {
   "cell_type": "markdown",
   "metadata": {},
   "source": [
    "### ChemicalStructureQuery\n",
    "This query downloads structure with chemical structures that have a biotin substructure.\n",
    "\n",
    "4Q94 - BTN in polymer sequence -> bug"
   ]
  },
  {
   "cell_type": "code",
   "execution_count": null,
   "metadata": {},
   "outputs": [],
   "source": [
    "smiles = \"OC(=O)CCCC[C@@H]1SC[C@@H]2NC(=O)N[C@H]12\"\n",
    "structures2 = download_from_query(ChemicalStructureQuery(smiles, ChemicalStructureQuery.SUBSTRUCTURE_STEREOSPECIFIC, percentSimilarity=90))"
   ]
  },
  {
   "cell_type": "code",
   "execution_count": null,
   "metadata": {},
   "outputs": [],
   "source": [
    "view_structure(structures2.keys().collect(), bioAssembly=True);"
   ]
  },
  {
   "cell_type": "markdown",
   "metadata": {},
   "source": [
    "### PdbjMineSearch - mmCIF metadata\n",
    "The PdbjMine queries PDB metadata contained in the PDB archive. The metadata are contained in the PDBx/mmCIF files. \n",
    "\n",
    "The example below shows the audit_author and citation_author categories. Each category represents a relational table that can be queried using SQL. Each category represents a table, and fields represent database columns (see\n",
    "https://pdbj.org/mine-rdb-docs available tables and columns)."
   ]
  },
  {
   "cell_type": "markdown",
   "metadata": {
    "tags": []
   },
   "source": [
    "Metadata example from [4P6I.cif](https://files.rcsb.org/view/4P6I.cif):\n",
    " <pre>\n",
    " loop_\n",
    " _audit_author.name \n",
    " _audit_author.pdbx_ordinal \n",
    " ...\n",
    " 'Doudna, J.A.'    4 \n",
    "\n",
    " loop_\n",
    " _citation_author.citation_id \n",
    " _citation_author.name \n",
    " _citation_author.ordinal \n",
    " ...\n",
    " primary 'Doudna, J.A.'    6\n",
    " </pre>"
   ]
  },
  {
   "cell_type": "markdown",
   "metadata": {},
   "source": [
    "Here we query the name fields in audit_author and citation_author tables."
   ]
  },
  {
   "cell_type": "code",
   "execution_count": null,
   "metadata": {},
   "outputs": [],
   "source": [
    "author_query = (\n",
    "    \"SELECT pdbid from audit_author \"\n",
    "    \"WHERE name LIKE 'Doudna%J.A.%' \"\n",
    "    \"UNION \"\n",
    "    \"SELECT pdbid from citation_author \"\n",
    "    \"WHERE citation_id = 'primary' AND name LIKE 'Doudna%J.A.%'\"\n",
    ")"
   ]
  },
  {
   "cell_type": "code",
   "execution_count": null,
   "metadata": {},
   "outputs": [],
   "source": [
    "structures3 = download_from_query(PdbjMineSearch(author_query))"
   ]
  },
  {
   "cell_type": "code",
   "execution_count": null,
   "metadata": {},
   "outputs": [],
   "source": [
    "view_structure(structures3.keys().collect());"
   ]
  },
  {
   "cell_type": "markdown",
   "metadata": {},
   "source": [
    "### PdbjMineSearch - SIFTS metadata\n",
    "Each category represents a table, and fields represent database columns (see\n",
    "https://pdbj.org/mine-rdb-docs available tables and columns)."
   ]
  },
  {
   "cell_type": "code",
   "execution_count": null,
   "metadata": {},
   "outputs": [],
   "source": [
    "kinase_query = \"SELECT * from sifts.pdb_chain_enzyme WHERE ec_number = '2.7.11.1' LIMIT 25\"\n",
    "\n",
    "kinases = download_from_query(PdbjMineSearch(kinase_query))"
   ]
  },
  {
   "cell_type": "code",
   "execution_count": null,
   "metadata": {},
   "outputs": [],
   "source": [
    "view_structure(kinases.keys().collect());"
   ]
  },
  {
   "cell_type": "markdown",
   "metadata": {},
   "source": [
    "## 2. Filter an existing set of structures by a query"
   ]
  },
  {
   "cell_type": "markdown",
   "metadata": {},
   "source": [
    "### Read PDB C-alpha structures\n",
    "This reads a subset of about 10,000 C-alpha structure from an MMTF Hadoop Sequence File"
   ]
  },
  {
   "cell_type": "code",
   "execution_count": null,
   "metadata": {},
   "outputs": [],
   "source": [
    "path = \"../resources/mmtf_reduced_sample\"\n",
    "\n",
    "pdb_reduced = mmtfReader.read_sequence_file(path)\n",
    "# pdb = mmtfReader.read_sequence_file(path).cache() # cache downloaded structure if used more than once."
   ]
  },
  {
   "cell_type": "markdown",
   "metadata": {},
   "source": [
    "### PdbjMineSearch - SIFTS metadata"
   ]
  },
  {
   "cell_type": "code",
   "execution_count": null,
   "metadata": {},
   "outputs": [],
   "source": [
    "kinase_query = \"SELECT * from sifts.pdb_chain_enzyme WHERE ec_number = '2.7.11.1'\""
   ]
  },
  {
   "cell_type": "code",
   "execution_count": null,
   "metadata": {},
   "outputs": [],
   "source": [
    "kinases_subset = pdb_reduced.filter(PdbjMineSearch(kinase_query))"
   ]
  },
  {
   "cell_type": "code",
   "execution_count": null,
   "metadata": {},
   "outputs": [],
   "source": [
    "view_structure(kinases_subset.keys().collect());"
   ]
  },
  {
   "cell_type": "markdown",
   "metadata": {},
   "source": [
    "### Read PDB full (all-atom) structures\n",
    "This reads a subset of about 10,000 structures from an MMTF Hadoop Sequence File"
   ]
  },
  {
   "cell_type": "code",
   "execution_count": null,
   "metadata": {},
   "outputs": [],
   "source": [
    "path = \"../resources/mmtf_full_sample\"\n",
    "\n",
    "pdb_full = mmtfReader.read_sequence_file(path)\n",
    "# pdb = mmtfReader.read_sequence_file(path).cache() # cache downloaded structures if used more than once."
   ]
  },
  {
   "cell_type": "code",
   "execution_count": null,
   "metadata": {},
   "outputs": [],
   "source": [
    "kinases_subset = pdb_full.filter(PdbjMineSearch(kinase_query))"
   ]
  },
  {
   "cell_type": "code",
   "execution_count": null,
   "metadata": {},
   "outputs": [],
   "source": [
    "view_structure(kinases_subset.keys().collect());"
   ]
  },
  {
   "cell_type": "code",
   "execution_count": null,
   "metadata": {},
   "outputs": [],
   "source": [
    "spark.stop()"
   ]
  }
 ],
 "metadata": {
  "kernelspec": {
   "display_name": "Python 3 (ipykernel)",
   "language": "python",
   "name": "python3"
  },
  "language_info": {
   "codemirror_mode": {
    "name": "ipython",
    "version": 3
   },
   "file_extension": ".py",
   "mimetype": "text/x-python",
   "name": "python",
   "nbconvert_exporter": "python",
   "pygments_lexer": "ipython3",
   "version": "3.7.12"
  }
 },
 "nbformat": 4,
 "nbformat_minor": 4
}
