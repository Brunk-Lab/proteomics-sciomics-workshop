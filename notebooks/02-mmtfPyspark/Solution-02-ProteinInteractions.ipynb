{
 "cells": [
  {
   "cell_type": "markdown",
   "metadata": {},
   "source": [
    "# Solution 2 - Protein Interactions\n",
    "\n",
    "This tutorial shows how to find proteins for a specific organism, how to calculate protein-protein interactions, and visualize the results.\n"
   ]
  },
  {
   "cell_type": "code",
   "execution_count": null,
   "metadata": {},
   "outputs": [],
   "source": [
    "from pyspark.sql import SparkSession\n",
    "from pyspark.sql.functions import substring_index\n",
    "from mmtfPyspark.datasets import pdbjMineDataset\n",
    "from mmtfPyspark.webfilters import PdbjMineSearch\n",
    "from mmtfPyspark.interactions import InteractionFilter, InteractionFingerprinter\n",
    "from mmtfPyspark.io import mmtfReader\n",
    "from ipywidgets import interact, IntSlider\n",
    "import py3Dmol"
   ]
  },
  {
   "cell_type": "markdown",
   "metadata": {},
   "source": [
    "#### Configure Spark\n"
   ]
  },
  {
   "cell_type": "code",
   "execution_count": null,
   "metadata": {},
   "outputs": [],
   "source": [
    "spark = SparkSession.builder.appName(\"mmtfPyspark-Solution-02\").getOrCreate()"
   ]
  },
  {
   "cell_type": "markdown",
   "metadata": {},
   "source": [
    "## Find protein structures for mouse\n"
   ]
  },
  {
   "cell_type": "markdown",
   "metadata": {},
   "source": [
    "For our first task, we need to run a taxonomy query using SIFTS data. [See examples](https://github.com/sbl-sdsc/mmtf-pyspark/blob/master/demos/datasets/PDBMetaDataDemo.ipynb) and [SIFTS demo](https://github.com/sbl-sdsc/mmtf-pyspark/blob/master/demos/datasets/SiftsDataDemo.ipynb)\n",
    "\n",
    "To figure out how to query for taxonomy, the command below lists the first 10 entries for the SIFTS taxonomy table. As you can see, we can use the science_name field to query for a specific organism.\n"
   ]
  },
  {
   "cell_type": "code",
   "execution_count": null,
   "metadata": {},
   "outputs": [],
   "source": [
    "taxonomy_query = \"SELECT * FROM sifts.pdb_chain_taxonomy LIMIT 10\"\n",
    "taxonomy = pdbjMineDataset.get_dataset(taxonomy_query)\n",
    "taxonomy.show()"
   ]
  },
  {
   "cell_type": "markdown",
   "metadata": {},
   "source": [
    "### TODO-1: specify a taxonomy query where the scientific name is 'Mus musculus'\n"
   ]
  },
  {
   "cell_type": "code",
   "execution_count": null,
   "metadata": {},
   "outputs": [],
   "source": [
    "taxonomy_query = (\n",
    "    \"SELECT * FROM sifts.pdb_chain_taxonomy WHERE scientific_name = 'Mus musculus'\"\n",
    ")\n",
    "taxonomy = pdbjMineDataset.get_dataset(taxonomy_query)\n",
    "taxonomy.show(10)"
   ]
  },
  {
   "cell_type": "code",
   "execution_count": null,
   "metadata": {},
   "outputs": [],
   "source": [
    "path = \"../../data/mmtf_full_sample/\"\n",
    "\n",
    "pdb = mmtfReader.read_sequence_file(path, fraction=0.1)"
   ]
  },
  {
   "cell_type": "markdown",
   "metadata": {},
   "source": [
    "### TODO-2: Take the taxonomy from above and use it to filter the pdb structures\n"
   ]
  },
  {
   "cell_type": "code",
   "execution_count": null,
   "metadata": {},
   "outputs": [],
   "source": [
    "pdb = pdb.filter(PdbjMineSearch(taxonomy_query)).cache()"
   ]
  },
  {
   "cell_type": "markdown",
   "metadata": {},
   "source": [
    "## Calculate polymer-polymer interactions for this subset of structures\n",
    "\n",
    "Find protein-protein interactions with a 6 A distance cutoff\n"
   ]
  },
  {
   "cell_type": "code",
   "execution_count": null,
   "metadata": {},
   "outputs": [],
   "source": [
    "distance_cutoff = 6.0\n",
    "interactionFilter = InteractionFilter(distance_cutoff, minInteractions=10)\n",
    "\n",
    "interactions = InteractionFingerprinter.get_polymer_interactions(\n",
    "    pdb,\n",
    "    interactionFilter,\n",
    ").cache()"
   ]
  },
  {
   "cell_type": "code",
   "execution_count": null,
   "metadata": {},
   "outputs": [],
   "source": [
    "interactions = interactions.withColumn(\n",
    "    \"structureId\",\n",
    "    substring_index(interactions.structureChainId, \".\", 1),\n",
    ").cache()\n",
    "interactions.toPandas().head(10)"
   ]
  },
  {
   "cell_type": "markdown",
   "metadata": {},
   "source": [
    "## Visualize the protein-protein interactions\n"
   ]
  },
  {
   "cell_type": "markdown",
   "metadata": {},
   "source": [
    "#### Extract id columns as lists (required for visualization)\n"
   ]
  },
  {
   "cell_type": "code",
   "execution_count": null,
   "metadata": {},
   "outputs": [],
   "source": [
    "structure_ids = interactions.select(\"structureId\").rdd.flatMap(lambda x: x).collect()\n",
    "query_chain_ids = interactions.select(\"queryChainID\").rdd.flatMap(lambda x: x).collect()\n",
    "target_chain_ids = (\n",
    "    interactions.select(\"targetChainID\").rdd.flatMap(lambda x: x).collect()\n",
    ")\n",
    "target_groups = interactions.select(\"groupNumbers\").rdd.flatMap(lambda x: x).collect()"
   ]
  },
  {
   "cell_type": "markdown",
   "metadata": {},
   "source": [
    "Disable scrollbar for the visualization below\n"
   ]
  },
  {
   "cell_type": "code",
   "execution_count": null,
   "metadata": {},
   "outputs": [],
   "source": [
    "#%%javascript\n",
    "# IPython.OutputArea.prototype._should_scroll = function(lines) {return false;}\n"
   ]
  },
  {
   "cell_type": "markdown",
   "metadata": {},
   "source": [
    "#### Show protein-protein interactions within cutoff distance (query = orange, target = blue)\n"
   ]
  },
  {
   "cell_type": "code",
   "execution_count": null,
   "metadata": {},
   "outputs": [],
   "source": [
    "def view_protein_protein_interactions(\n",
    "    structure_ids,\n",
    "    query_chain_ids,\n",
    "    target_chain_ids,\n",
    "    target_groups,\n",
    "    distance=4.5,\n",
    "):\n",
    "    def view3d(i=0):\n",
    "        print(\n",
    "            f\"PDB: {structure_ids[i]}, query: {query_chain_ids[i]}, target: {target_chain_ids[i]}\"\n",
    "        )\n",
    "\n",
    "        target = {\"chain\": target_chain_ids[i], \"resi\": target_groups[i]}\n",
    "\n",
    "        viewer = py3Dmol.view(query=\"pdb:\" + structure_ids[i], width=600, height=600)\n",
    "        viewer.setStyle({})\n",
    "\n",
    "        viewer.setStyle(\n",
    "            {\"chain\": query_chain_ids[i]},\n",
    "            {\"line\": {\"colorscheme\": \"orangeCarbon\"}},\n",
    "        )\n",
    "        viewer.setStyle(\n",
    "            {\n",
    "                \"chain\": query_chain_ids[i],\n",
    "                \"within\": {\"distance\": distance, \"sel\": {\"chain\": target_chain_ids[i]}},\n",
    "            },\n",
    "            {\"sphere\": {\"colorscheme\": \"orangeCarbon\"}},\n",
    "        )\n",
    "        viewer.setStyle(\n",
    "            {\"chain\": target_chain_ids[i]},\n",
    "            {\"line\": {\"colorscheme\": \"lightblueCarbon\"}},\n",
    "        )\n",
    "        viewer.setStyle(target, {\"stick\": {\"colorscheme\": \"lightblueCarbon\"}})\n",
    "        viewer.zoomTo(target)\n",
    "\n",
    "        return viewer.show()\n",
    "\n",
    "    s_widget = IntSlider(\n",
    "        min=0,\n",
    "        max=len(structure_ids) - 1,\n",
    "        description=\"Structure\",\n",
    "        continuous_update=False,\n",
    "    )\n",
    "    return interact(view3d, i=s_widget)"
   ]
  },
  {
   "cell_type": "code",
   "execution_count": null,
   "metadata": {},
   "outputs": [],
   "source": [
    "view_protein_protein_interactions(\n",
    "    structure_ids,\n",
    "    query_chain_ids,\n",
    "    target_chain_ids,\n",
    "    target_groups,\n",
    "    distance=distance_cutoff,\n",
    ")"
   ]
  },
  {
   "cell_type": "code",
   "execution_count": null,
   "metadata": {},
   "outputs": [],
   "source": [
    "spark.stop()"
   ]
  }
 ],
 "metadata": {
  "kernelspec": {
   "display_name": "Python 3 (ipykernel)",
   "language": "python",
   "name": "python3"
  },
  "language_info": {
   "codemirror_mode": {
    "name": "ipython",
    "version": 3
   },
   "file_extension": ".py",
   "mimetype": "text/x-python",
   "name": "python",
   "nbconvert_exporter": "python",
   "pygments_lexer": "ipython3",
   "version": "3.7.12"
  }
 },
 "nbformat": 4,
 "nbformat_minor": 4
}
