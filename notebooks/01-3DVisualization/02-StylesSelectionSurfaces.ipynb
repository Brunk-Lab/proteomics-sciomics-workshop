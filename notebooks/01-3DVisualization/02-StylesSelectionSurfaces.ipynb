{
 "cells": [
  {
   "cell_type": "markdown",
   "metadata": {},
   "source": [
    "# Styles, Selection, & Surfaces\n",
    "In this notebook we will go over the basics of adjusting the visualization. This is useful to highlight and easily locate different features in a structure."
   ]
  },
  {
   "cell_type": "markdown",
   "metadata": {},
   "source": [
    "## Setting Rendering Styles\n",
    "This tutorial demonstrates how to instantiate a py3Dmol viewer and set atom styles and colors."
   ]
  },
  {
   "cell_type": "code",
   "execution_count": null,
   "metadata": {},
   "outputs": [],
   "source": [
    "import py3Dmol"
   ]
  },
  {
   "cell_type": "markdown",
   "metadata": {},
   "source": [
    "## Instantiating the py3mol viewer with a PDB ID\n",
    "py3Dmol downloads PDB structures using the MMTF file format from https://mmtf.rcsb.org. Prepend the 'pdb:\" prefix to the 4-letter PDB ID."
   ]
  },
  {
   "cell_type": "code",
   "execution_count": null,
   "metadata": {},
   "outputs": [],
   "source": [
    "viewer = py3Dmol.view(query=\"pdb:1STP\")\n",
    "viewer.show()"
   ]
  },
  {
   "cell_type": "markdown",
   "metadata": {},
   "source": [
    "## Setting an Atom Style\n",
    "Styles are specified as nested dictionaries. In this example, 'stick' is the AtomStyleSpec [(list of atom styles)](http://3dmol.csb.pitt.edu/doc/types.html#AtomStyleSpec)."
   ]
  },
  {
   "cell_type": "code",
   "execution_count": null,
   "metadata": {},
   "outputs": [],
   "source": [
    "viewer.setStyle({\"stick\": {}})\n",
    "viewer.show()"
   ]
  },
  {
   "cell_type": "markdown",
   "metadata": {},
   "source": [
    "## Setting a Color Representation\n",
    "Colors are specified as a dictionary, e.g., {'color': 'spectrum'} or monochrome colors {'color':'lightgreen'} [(list of colors)](https://github.com/3dmol/3Dmol.js/blob/master/3Dmol/colors.js#L45-L192)."
   ]
  },
  {
   "cell_type": "code",
   "execution_count": null,
   "metadata": {},
   "outputs": [],
   "source": [
    "viewer.setStyle({\"cartoon\": {\"color\": \"spectrum\"}})\n",
    "viewer.show()"
   ]
  },
  {
   "cell_type": "markdown",
   "metadata": {},
   "source": [
    "## Setting a Color Scheme\n",
    "Color schemes can be used to color atoms and residues by properties. A particulary useful color scheme is the <color>Carbon color scheme, for example: 'greenCarbon' [(list of color schemes)](https://github.com/3dmol/3Dmol.js/blob/master/3Dmol/colors.js#L26-L36)."
   ]
  },
  {
   "cell_type": "code",
   "execution_count": null,
   "metadata": {},
   "outputs": [],
   "source": [
    "viewer.setStyle({\"stick\": {\"colorscheme\": \"greenCarbon\"}})\n",
    "viewer.show()"
   ]
  },
  {
   "cell_type": "markdown",
   "metadata": {},
   "source": [
    "Example of coloring by amino acid type"
   ]
  },
  {
   "cell_type": "code",
   "execution_count": null,
   "metadata": {},
   "outputs": [],
   "source": [
    "viewer.setStyle({\"cartoon\": {\"colorscheme\": \"amino\"}})\n",
    "viewer.show()"
   ]
  },
  {
   "cell_type": "markdown",
   "metadata": {},
   "source": [
    "# Selecting chains, residues, and atoms\n",
    "This tutorial shows how to select parts of a structure and apply different styles. It also shows how to add labels and how to zoom in on a selection."
   ]
  },
  {
   "cell_type": "markdown",
   "metadata": {},
   "source": [
    "## Instantiate viewer with a Hemoglobin structure\n",
    "This example also shows how to set the size of the viewer."
   ]
  },
  {
   "cell_type": "code",
   "execution_count": null,
   "metadata": {},
   "outputs": [],
   "source": [
    "viewer = py3Dmol.view(query=\"pdb:5WOG\", width=400, height=400)\n",
    "viewer.show()"
   ]
  },
  {
   "cell_type": "markdown",
   "metadata": {},
   "source": [
    "## Apply a style to a chain\n",
    "Here we select chain A and apply a cartoon style."
   ]
  },
  {
   "cell_type": "code",
   "execution_count": null,
   "metadata": {},
   "outputs": [],
   "source": [
    "viewer.setStyle({\"chain\": \"A\"}, {\"cartoon\": {\"color\": \"orange\"}})\n",
    "viewer.show()"
   ]
  },
  {
   "cell_type": "markdown",
   "metadata": {},
   "source": [
    "## Apply a style to a list of  chains and add labels\n",
    "Use a list to select to multiple chains."
   ]
  },
  {
   "cell_type": "code",
   "execution_count": null,
   "metadata": {},
   "outputs": [],
   "source": [
    "# Alpha subunits of hemoglobin\n",
    "viewer.setStyle(\n",
    "    {\"chain\": [\"A\", \"B\"]},\n",
    "    {\"cartoon\": {\"color\": \"orange\"}},\n",
    ")\n",
    "viewer.addLabel(\n",
    "    \"alpha subunits\",\n",
    "    {\"fontColor\": \"orange\", \"backgroundColor\": \"lightgray\"},\n",
    "    {\"chain\": [\"A\", \"B\"]},\n",
    ")\n",
    "\n",
    "# Beta subunits of hemoglobin\n",
    "viewer.setStyle(\n",
    "    {\"chain\": [\"C\", \"D\"]},\n",
    "    {\"cartoon\": {\"color\": \"blue\"}},\n",
    ")\n",
    "viewer.addLabel(\n",
    "    \"beta subunits\",\n",
    "    {\"fontColor\": \"blue\", \"backgroundColor\": \"lightgray\"},\n",
    "    {\"chain\": [\"C\", \"D\"]},\n",
    ")\n",
    "\n",
    "viewer.show()"
   ]
  },
  {
   "cell_type": "markdown",
   "metadata": {},
   "source": [
    "# Apply style to specific residues by residue name (resn)\n",
    "Here we display all water molecules as spheres."
   ]
  },
  {
   "cell_type": "code",
   "execution_count": null,
   "metadata": {},
   "outputs": [],
   "source": [
    "viewer.setStyle({\"resn\": \"HOH\"}, {\"sphere\": {\"radius\": 0.5}})\n",
    "viewer.show()"
   ]
  },
  {
   "cell_type": "markdown",
   "metadata": {},
   "source": [
    "And turn waters off again by resetting their style."
   ]
  },
  {
   "cell_type": "code",
   "execution_count": null,
   "metadata": {},
   "outputs": [],
   "source": [
    "viewer.setStyle({\"resn\": \"HOH\"}, {})\n",
    "viewer.show()"
   ]
  },
  {
   "cell_type": "markdown",
   "metadata": {},
   "source": [
    "## Apply a style by residue name (resn)\n",
    "Show heme as spheres."
   ]
  },
  {
   "cell_type": "code",
   "execution_count": null,
   "metadata": {},
   "outputs": [],
   "source": [
    "viewer.setStyle({\"resn\": \"HEM\"}, {\"sphere\": {\"colorscheme\": \"greenCarbon\"}})\n",
    "viewer.show()"
   ]
  },
  {
   "cell_type": "markdown",
   "metadata": {},
   "source": [
    "## Apply a style to a specific residue by residue name (resn) on a specific chain\n",
    "Here we select the heme molecule in chain A and color its carbons red. We also adjust the stick radius. Finally, we zoom into a specific heme residue in chain A."
   ]
  },
  {
   "cell_type": "code",
   "execution_count": null,
   "metadata": {},
   "outputs": [],
   "source": [
    "viewer.setStyle(\n",
    "    {\"chain\": \"A\", \"resn\": \"HEM\"},\n",
    "    {\"stick\": {\"colorscheme\": \"redCarbon\", \"radius\": 0.2}},\n",
    ")\n",
    "viewer.zoomTo({\"chain\": \"A\", \"resn\": \"HEM\"})\n",
    "viewer.show()"
   ]
  },
  {
   "cell_type": "markdown",
   "metadata": {},
   "source": [
    "# Apply style to a specific chain and residue by residue index (resi)\n",
    "In the following example we display the HIS-87 side chain that interacts with iron in heme."
   ]
  },
  {
   "cell_type": "code",
   "execution_count": null,
   "metadata": {},
   "outputs": [],
   "source": [
    "viewer.setStyle(\n",
    "    {\"chain\": \"A\", \"resi\": \"87\"},\n",
    "    {\"stick\": {\"colorscheme\": \"redCarbon\"}},\n",
    ")\n",
    "viewer.show()"
   ]
  },
  {
   "cell_type": "markdown",
   "metadata": {},
   "source": [
    "# Apply style to an element (elem)\n",
    "We display the iron atom as a green sphere."
   ]
  },
  {
   "cell_type": "code",
   "execution_count": null,
   "metadata": {},
   "outputs": [],
   "source": [
    "viewer.setStyle(\n",
    "    {\"chain\": \"A\", \"elem\": \"Fe\"},\n",
    "    {\"sphere\": {\"color\": \"green\"}},\n",
    ")\n",
    "viewer.show()"
   ]
  },
  {
   "cell_type": "markdown",
   "metadata": {},
   "source": [
    "# Add residue labels\n",
    "Finally, we add labels to HIS-87 and HEM."
   ]
  },
  {
   "cell_type": "code",
   "execution_count": null,
   "metadata": {},
   "outputs": [],
   "source": [
    "viewer.addResLabels({\"chain\": \"A\", \"resi\": \"87\"})\n",
    "viewer.addResLabels({\"chain\": \"A\", \"resn\": \"HEM\"})\n",
    "viewer.show()"
   ]
  },
  {
   "cell_type": "markdown",
   "metadata": {},
   "source": [
    "# Select binding site residues by proximity\n",
    "Here we select all residues within 5 A of the HEM in chain A."
   ]
  },
  {
   "cell_type": "code",
   "execution_count": null,
   "metadata": {},
   "outputs": [],
   "source": [
    "# reset styles and remove labels\n",
    "viewer.removeAllLabels()\n",
    "viewer.setStyle({\"line\": {}})\n",
    "\n",
    "# select by distance\n",
    "selection = {\"resn\": \"HEM\", \"chain\": \"A\", \"byres\": \"true\", \"expand\": 5}\n",
    "\n",
    "# set styles\n",
    "viewer.setStyle(selection, {\"stick\": {\"colorscheme\": \"orangeCarbon\"}})\n",
    "viewer.setStyle(\n",
    "    {\"chain\": \"A\", \"resn\": \"HEM\"},\n",
    "    {\"sphere\": {\"colorscheme\": \"lightgreenCarbon\"}},\n",
    ")\n",
    "viewer.zoomTo(selection)\n",
    "viewer.show()"
   ]
  },
  {
   "cell_type": "markdown",
   "metadata": {},
   "source": [
    "# Displaying Surfaces\n",
    "py3Dmol supports the following surface types:\n",
    "\n",
    "* VDW - van der Waals surface\n",
    "* MS - molecular surface\n",
    "* SES - solvent excluded surface\n",
    "* SAS - solvent accessible surface"
   ]
  },
  {
   "cell_type": "markdown",
   "metadata": {},
   "source": [
    "# Add surface\n",
    "In the structure below (HLA complex with antigen peptide pVR), we add a solvent excluded surface (SES) to the heavy chain to highlight the binding pocket for the antigen peptide (rendered as spheres)."
   ]
  },
  {
   "cell_type": "code",
   "execution_count": null,
   "metadata": {},
   "outputs": [],
   "source": [
    "viewer = py3Dmol.view(query=\"pdb:5XS3\")\n",
    "\n",
    "heavychain = {\"chain\": \"A\"}\n",
    "lightchain = {\"chain\": \"B\"}\n",
    "antigen = {\"chain\": \"C\"}\n",
    "\n",
    "viewer.setStyle(heavychain, {\"cartoon\": {\"color\": \"blue\"}})\n",
    "viewer.setStyle(lightchain, {\"cartoon\": {\"color\": \"yellow\"}})\n",
    "viewer.setStyle(antigen, {\"sphere\": {\"colorscheme\": \"orangeCarbon\"}})\n",
    "\n",
    "viewer.addSurface(py3Dmol.SES, {\"opacity\": 0.9, \"color\": \"lightblue\"}, heavychain)\n",
    "viewer.show()"
   ]
  }
 ],
 "metadata": {
  "kernelspec": {
   "display_name": "Python 3 (ipykernel)",
   "language": "python",
   "name": "python3"
  },
  "language_info": {
   "codemirror_mode": {
    "name": "ipython",
    "version": 3
   },
   "file_extension": ".py",
   "mimetype": "text/x-python",
   "name": "python",
   "nbconvert_exporter": "python",
   "pygments_lexer": "ipython3",
   "version": "3.7.12"
  }
 },
 "nbformat": 4,
 "nbformat_minor": 4
}
