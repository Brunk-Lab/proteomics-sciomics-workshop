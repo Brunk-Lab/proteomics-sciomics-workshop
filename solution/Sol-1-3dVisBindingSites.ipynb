{
 "cells": [
  {
   "cell_type": "markdown",
   "metadata": {},
   "source": [
    "# Solution 1 - 3D Viz Binding Sites\n",
    "In this excercise we add surfaces to pinpoint the location of a binding site and render the ligand in different styles."
   ]
  },
  {
   "cell_type": "code",
   "execution_count": null,
   "metadata": {},
   "outputs": [],
   "source": [
    "import py3Dmol"
   ]
  },
  {
   "cell_type": "markdown",
   "metadata": {},
   "source": [
    "## HIV-1 Protease structure with ligand Nelfinavir (1UN)"
   ]
  },
  {
   "cell_type": "code",
   "execution_count": null,
   "metadata": {},
   "outputs": [],
   "source": [
    "viewer = py3Dmol.view(query='pdb:1OHR')\n",
    "\n",
    "viewer.setStyle({'chain': 'A'}, {'cartoon': {'color': 'blue'}})\n",
    "viewer.setStyle({'chain': 'B'}, {'cartoon': {'color':' yellow'}})\n",
    "viewer.show()"
   ]
  },
  {
   "cell_type": "markdown",
   "metadata": {},
   "source": [
    "### TODO-1: Add a molecular surface to the structure.\n",
    "Note, we use the `hetflag` here to exclude non-protein residues from the surface to have an unobstructed view of the binding site."
   ]
  },
  {
   "cell_type": "code",
   "execution_count": null,
   "metadata": {},
   "outputs": [],
   "source": [
    "viewer.addSurface(py3Dmol.MS,{'opacity':0.9,'color':'lightblue'}, \n",
    "                  {'chain': 'A', 'hetflag' : False})\n",
    "                   \n",
    "viewer.addSurface(py3Dmol.MS,{'opacity':0.9,'color':'lightyellow'}, \n",
    "                  {'chain': 'B', 'hetflag' : False})\n",
    "viewer.show()"
   ]
  },
  {
   "cell_type": "markdown",
   "metadata": {},
   "source": [
    "### TODO-2: Set the style for the ligand \n",
    "Set style for ligand `1UN` to sphere and color by greenCarbon color scheme."
   ]
  },
  {
   "cell_type": "code",
   "execution_count": null,
   "metadata": {},
   "outputs": [],
   "source": [
    "viewer.setStyle({'resn': '1UN'},{'sphere': {'colorscheme': 'greenCarbon'}})\n",
    "viewer.show()"
   ]
  },
  {
   "cell_type": "markdown",
   "metadata": {},
   "source": [
    "### Bonus: Annotate the binding site\n",
    "Render the ligand as stick, display the bond orders, and add the label 'Nelfinavir'."
   ]
  },
  {
   "cell_type": "code",
   "execution_count": null,
   "metadata": {},
   "outputs": [],
   "source": [
    "ligand = {'resn': '1UN'}\n",
    "viewer.setStyle(ligand, {'stick':{'radius': 0.3, 'singleBond': False}})\n",
    "viewer.addLabel('Nelfinavir', {'fontColor':'black', 'backgroundColor':'lightgray'},ligand)\n",
    "viewer.zoomTo(ligand)\n",
    "viewer.show()"
   ]
  }
 ],
 "metadata": {
  "kernelspec": {
   "display_name": "Python 3 (ipykernel)",
   "language": "python",
   "name": "python3"
  },
  "language_info": {
   "codemirror_mode": {
    "name": "ipython",
    "version": 3
   },
   "file_extension": ".py",
   "mimetype": "text/x-python",
   "name": "python",
   "nbconvert_exporter": "python",
   "pygments_lexer": "ipython3",
   "version": "3.7.12"
  }
 },
 "nbformat": 4,
 "nbformat_minor": 4
}
